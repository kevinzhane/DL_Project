{
 "cells": [
  {
   "cell_type": "code",
   "execution_count": null,
   "metadata": {},
   "outputs": [],
   "source": [
    "import keras\n",
    "from keras.layers import Input, Dense, Conv2D, MaxPooling2D, UpSampling2D\n",
    "from keras.models import Model\n",
    "from keras import backend as K\n",
    "import matplotlib.pyplot as plt\n",
    "import cv2\n",
    "import os\n",
    "from keras.layers.advanced_activations import LeakyReLU\n",
    "\n",
    "\n",
    "input_img = Input(shape=(28, 28, 1))  # adapt this if using `channels_first` image data format\n",
    "\n",
    "#initial_mode = keras.initializers.glorot_normal(seed=None)\n",
    "\n",
    "\n",
    "#activation_method = 'relu'\n",
    "#activation_method = LeakyReLU(alpha=0.5)\n",
    "#activation_method=tf.keras.layers.LeakyReLU(alpha=0.1)\n",
    "\n",
    "#kernel_initializer=initial_mode\n",
    "\n",
    "for i in range(1,2):\n",
    "    ## Build the Convolution autoencoders model\n",
    "    \n",
    "    x = Conv2D(16, (3, 3), padding='same')(input_img)# 28*28*16    \n",
    "    x = LeakyReLU(alpha=0.5)(x)\n",
    "    x = MaxPooling2D((2, 2), padding='same')(x)  # 14*14*16\n",
    "    \n",
    "    x = Conv2D(8, (3, 3), padding='same')(x) # 14*14*8\n",
    "    x = LeakyReLU(alpha=0.5)(x)\n",
    "    x = MaxPooling2D((2, 2), padding='same')(x) # 7*7*8\n",
    "    \n",
    "    x = Conv2D(8, (3, 3), padding='same')(x) # 7*7*8\n",
    "    x = LeakyReLU(alpha=0.5)(x)\n",
    "    encoded = MaxPooling2D((2, 2), padding='same')(x) # 4*4*8\n",
    "\n",
    "    # This part is full connect layer\n",
    "    # at this point the representation is (4, 4, 8) i.e. 128-dimensional\n",
    "\n",
    "    x = Conv2D(8, (3, 3), padding='same')(encoded) # 4*4*8\n",
    "    x = LeakyReLU(alpha=0.5)(x)\n",
    "\n",
    "    x = UpSampling2D((2, 2))(x) # 8*8*8\n",
    "    x = Conv2D(8, (3, 3), padding='same')(x) # 8*8*8\n",
    "    x = LeakyReLU(alpha=0.5)(x)\n",
    "\n",
    "    x = UpSampling2D((2, 2))(x) # 16*16*8\n",
    "    x = Conv2D(16, (3, 3))(x) # 14*14*16\n",
    "    x = LeakyReLU(alpha=0.5)(x)\n",
    "\n",
    "    x = UpSampling2D((2, 2))(x) # 28*28*16\n",
    "    decoded = Conv2D(1, (3, 3), activation='sigmoid', padding='same')(x) # 28*28*1\n",
    "    \n",
    "\n",
    "\n",
    "    autoencoder = Model(input_img, decoded)\n",
    "    autoencoder.compile(optimizer='nadam', loss='binary_crossentropy')\n",
    "\n",
    "    from keras.datasets import mnist\n",
    "    import numpy as np\n",
    "\n",
    "    (x_train, _), (x_test, _) = mnist.load_data()\n",
    "\n",
    "    x_train = x_train.astype('float32') / 255.\n",
    "    x_test = x_test.astype('float32') / 255.\n",
    "    x_train = np.reshape(x_train, (len(x_train), 28, 28, 1))  # adapt this if using `channels_first` image data format\n",
    "    x_test = np.reshape(x_test, (len(x_test), 28, 28, 1))  # adapt this if using `channels_first` image data format\n",
    "\n",
    "    from keras.callbacks import TensorBoard\n",
    "\n",
    "    \n",
    "\n",
    "    \n",
    "    class CustomSaver(keras.callbacks.Callback):\n",
    "        def on_epoch_begin(self, epoch, logs={}):            \n",
    "            loop = epoch + 1\n",
    "            \n",
    "            if epoch ==0:\n",
    "                print('first epoch')\n",
    "\n",
    "            \n",
    "            elif loop%5 == 0:  # or save after some epoch, each k-th epoch etc.\n",
    "                print('Save the image')\n",
    "                decoded_imgs = autoencoder.predict(x_test)\n",
    "                img = decoded_imgs[0]\n",
    "                img = img.reshape(28,28)\n",
    "                \n",
    "                # save the img\n",
    "                current_dir = os.getcwd()\n",
    "                plt.imshow(img,'gray')\n",
    "                plt.savefig(current_dir+'/Decoded_img/Decoded_image_epoch'+str(loop)+'.png')\n",
    "           \n",
    "            \n",
    "                \n",
    "\n",
    "    saver = CustomSaver()\n",
    "    current_dir = os.getcwd()\n",
    "\n",
    "    result = autoencoder.fit(x_train, x_train,\n",
    "                                        epochs=50,\n",
    "                                        batch_size=128,\n",
    "                                        shuffle=True,\n",
    "                                        validation_data=(x_test, x_test),\n",
    "                                        callbacks=[saver,TensorBoard(log_dir=current_dir+'/tensorboard_data/result_a_g')])\n",
    "    \n",
    "    \n",
    "\n",
    "\n",
    "#print(autoencoder.summary())\n",
    "\n",
    "\n",
    "\n",
    "\n",
    "#decoded_images = autoencoder.predict(x_test)"
   ]
  },
  {
   "cell_type": "code",
   "execution_count": null,
   "metadata": {},
   "outputs": [],
   "source": [
    "decoded_imgs = autoencoder.predict(x_test)\n",
    "print(autoencoder.summary())"
   ]
  },
  {
   "cell_type": "code",
   "execution_count": null,
   "metadata": {},
   "outputs": [],
   "source": [
    "b = x_test[0]\n",
    "b = b.reshape(28,28)\n",
    "plt.imshow(b,'gray')\n"
   ]
  },
  {
   "cell_type": "code",
   "execution_count": null,
   "metadata": {},
   "outputs": [],
   "source": [
    "decoded_imgs.shape\n",
    "a = decoded_imgs[0]\n",
    "a = a.reshape(28,28)\n",
    "plt.imshow(a,'gray')\n"
   ]
  },
  {
   "cell_type": "code",
   "execution_count": null,
   "metadata": {},
   "outputs": [],
   "source": [
    "autoencoder.save('my_model.h5')"
   ]
  },
  {
   "cell_type": "code",
   "execution_count": null,
   "metadata": {},
   "outputs": [],
   "source": [
    "from tensorflow.keras.layers import Input, Dense, Conv2D, MaxPooling2D, UpSampling2D\n",
    "from tensorflow.keras.models import Model\n",
    "from tensorflow.keras import backend as K\n",
    "import matplotlib.pyplot as plt\n",
    "import tensorflow as tf\n",
    "import numpy as np\n",
    "import cv2\n",
    "import os,sys\n",
    "\n",
    "current_dir = os.getcwd()\n",
    "new_model = tf.keras.models.load_model(current_dir+'/model/result/test_a_g.h5')\n"
   ]
  },
  {
   "cell_type": "code",
   "execution_count": null,
   "metadata": {},
   "outputs": [],
   "source": [
    "print(new_model.summary())"
   ]
  },
  {
   "cell_type": "code",
   "execution_count": null,
   "metadata": {},
   "outputs": [],
   "source": [
    "# Define the test model\n",
    "\n",
    "model_name = 'test_a_g'\n",
    "\n",
    "#test_img.shape\n"
   ]
  },
  {
   "cell_type": "code",
   "execution_count": null,
   "metadata": {},
   "outputs": [],
   "source": [
    "#Do test 1\n",
    "\n",
    "current_dir = os.getcwd()\n",
    "test_img = cv2.imread('test1.png',cv2.IMREAD_GRAYSCALE)\n",
    "\n",
    "test_img = abs(255-test_img)\n",
    "test_img = test_img/255\n",
    "\n",
    "#change the input shape\n",
    "new_img = cv2.resize(test_img,(28, 28))\n",
    "new_img.shape\n",
    "plt.imshow(new_img,cmap='gray')\n",
    "#plt.savefig(model_name+'_number1.png')\n",
    "\n",
    "new_img1 = new_img.reshape(1,28,28,1) "
   ]
  },
  {
   "cell_type": "code",
   "execution_count": null,
   "metadata": {},
   "outputs": [],
   "source": [
    "pred = new_model.predict(new_img1)\n",
    "\n",
    "output = pred.reshape(28,28) \n",
    "\n",
    "plt.imshow(output,cmap='gray')\n",
    "plt.savefig(model_name+'_result_number1.png')"
   ]
  },
  {
   "cell_type": "code",
   "execution_count": null,
   "metadata": {},
   "outputs": [],
   "source": [
    "#Do test 2\n",
    "\n",
    "current_dir = os.getcwd()\n",
    "test_img = cv2.imread('test2.jpeg',cv2.IMREAD_GRAYSCALE)\n",
    "\n",
    "ret, test_img = cv2.threshold(test_img, 130, 255, cv2.THRESH_BINARY)\n",
    "\n",
    "test_img = abs(255-test_img)\n",
    "test_img = test_img/255\n",
    "\n",
    "#change the input shape\n",
    "new_img = cv2.resize(test_img,(28, 28))\n",
    "#new_img.shape\n",
    "plt.imshow(new_img,cmap='gray')\n",
    "#plt.savefig('test_src.png')\n",
    "\n",
    "new_img2 = new_img.reshape(1,28,28,1) "
   ]
  },
  {
   "cell_type": "code",
   "execution_count": null,
   "metadata": {},
   "outputs": [],
   "source": [
    "pred = new_model.predict(new_img2)\n",
    "\n",
    "output = pred.reshape(28,28) \n",
    "\n",
    "plt.imshow(output,cmap='gray')\n",
    "plt.savefig(model_name+'_result_number7.png')"
   ]
  },
  {
   "cell_type": "code",
   "execution_count": null,
   "metadata": {},
   "outputs": [],
   "source": []
  },
  {
   "cell_type": "code",
   "execution_count": null,
   "metadata": {},
   "outputs": [],
   "source": []
  },
  {
   "cell_type": "code",
   "execution_count": null,
   "metadata": {},
   "outputs": [],
   "source": []
  },
  {
   "cell_type": "code",
   "execution_count": null,
   "metadata": {},
   "outputs": [],
   "source": []
  },
  {
   "cell_type": "code",
   "execution_count": null,
   "metadata": {},
   "outputs": [],
   "source": []
  },
  {
   "cell_type": "code",
   "execution_count": null,
   "metadata": {},
   "outputs": [],
   "source": []
  }
 ],
 "metadata": {
  "kernelspec": {
   "display_name": "tensor_env_3.6",
   "language": "python",
   "name": "tensor_env_3.6"
  },
  "language_info": {
   "codemirror_mode": {
    "name": "ipython",
    "version": 3
   },
   "file_extension": ".py",
   "mimetype": "text/x-python",
   "name": "python",
   "nbconvert_exporter": "python",
   "pygments_lexer": "ipython3",
   "version": "3.6.9"
  }
 },
 "nbformat": 4,
 "nbformat_minor": 4
}
