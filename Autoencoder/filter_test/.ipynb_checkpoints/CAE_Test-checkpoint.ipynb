{
 "cells": [
  {
   "cell_type": "code",
   "execution_count": 1,
   "metadata": {},
   "outputs": [
    {
     "name": "stderr",
     "output_type": "stream",
     "text": [
      "Using TensorFlow backend.\n"
     ]
    },
    {
     "name": "stdout",
     "output_type": "stream",
     "text": [
      "Train on 60000 samples, validate on 10000 samples\n",
      "Epoch 1/50\n",
      " 2304/60000 [>.............................] - ETA: 34s - loss: 0.5409"
     ]
    },
    {
     "name": "stderr",
     "output_type": "stream",
     "text": [
      "/home/kevin-home/.local/lib/python3.6/site-packages/keras/callbacks/callbacks.py:95: RuntimeWarning: Method (on_train_batch_end) is slow compared to the batch update (0.100528). Check your callbacks.\n",
      "  % (hook_name, delta_t_median), RuntimeWarning)\n"
     ]
    },
    {
     "name": "stdout",
     "output_type": "stream",
     "text": [
      "60000/60000 [==============================] - 7s 111us/step - loss: 0.2128 - val_loss: 0.1718\n",
      "Epoch 2/50\n",
      "60000/60000 [==============================] - 5s 89us/step - loss: 0.1565 - val_loss: 0.1468\n",
      "Epoch 3/50\n",
      "60000/60000 [==============================] - 5s 87us/step - loss: 0.1420 - val_loss: 0.1338\n",
      "Epoch 4/50\n",
      "60000/60000 [==============================] - 5s 87us/step - loss: 0.1344 - val_loss: 0.1285\n",
      "Epoch 5/50\n",
      "Save the image\n",
      "60000/60000 [==============================] - 6s 98us/step - loss: 0.1290 - val_loss: 0.1265\n",
      "Epoch 6/50\n",
      "60000/60000 [==============================] - 5s 88us/step - loss: 0.1255 - val_loss: 0.1210\n",
      "Epoch 7/50\n",
      "60000/60000 [==============================] - 5s 85us/step - loss: 0.1230 - val_loss: 0.1208\n",
      "Epoch 8/50\n",
      "60000/60000 [==============================] - 5s 85us/step - loss: 0.1207 - val_loss: 0.1186\n",
      "Epoch 9/50\n",
      "60000/60000 [==============================] - 5s 87us/step - loss: 0.1187 - val_loss: 0.1197\n",
      "Epoch 10/50\n",
      "Save the image\n",
      "60000/60000 [==============================] - 6s 97us/step - loss: 0.1170 - val_loss: 0.1137\n",
      "Epoch 11/50\n",
      "60000/60000 [==============================] - 5s 88us/step - loss: 0.1154 - val_loss: 0.1144\n",
      "Epoch 12/50\n",
      "60000/60000 [==============================] - 5s 86us/step - loss: 0.1145 - val_loss: 0.1109\n",
      "Epoch 13/50\n",
      "60000/60000 [==============================] - 5s 87us/step - loss: 0.1137 - val_loss: 0.1126\n",
      "Epoch 14/50\n",
      "60000/60000 [==============================] - 5s 87us/step - loss: 0.1130 - val_loss: 0.1102\n",
      "Epoch 15/50\n",
      "Save the image\n",
      "60000/60000 [==============================] - 6s 99us/step - loss: 0.1120 - val_loss: 0.1085\n",
      "Epoch 16/50\n",
      "60000/60000 [==============================] - 5s 84us/step - loss: 0.1114 - val_loss: 0.1069\n",
      "Epoch 17/50\n",
      "60000/60000 [==============================] - 5s 86us/step - loss: 0.1105 - val_loss: 0.1096\n",
      "Epoch 18/50\n",
      "60000/60000 [==============================] - 5s 82us/step - loss: 0.1099 - val_loss: 0.1113\n",
      "Epoch 19/50\n",
      "60000/60000 [==============================] - 5s 85us/step - loss: 0.1098 - val_loss: 0.1073\n",
      "Epoch 20/50\n",
      "Save the image\n",
      "60000/60000 [==============================] - 6s 99us/step - loss: 0.1094 - val_loss: 0.1059\n",
      "Epoch 21/50\n",
      "60000/60000 [==============================] - 5s 84us/step - loss: 0.1093 - val_loss: 0.1082\n",
      "Epoch 22/50\n",
      "60000/60000 [==============================] - 5s 88us/step - loss: 0.1087 - val_loss: 0.1063\n",
      "Epoch 23/50\n",
      "60000/60000 [==============================] - 5s 88us/step - loss: 0.1081 - val_loss: 0.1062\n",
      "Epoch 24/50\n",
      "60000/60000 [==============================] - 5s 86us/step - loss: 0.1078 - val_loss: 0.1039\n",
      "Epoch 25/50\n",
      "Save the image\n",
      "60000/60000 [==============================] - 6s 95us/step - loss: 0.1077 - val_loss: 0.1033\n",
      "Epoch 26/50\n",
      "60000/60000 [==============================] - 5s 84us/step - loss: 0.1071 - val_loss: 0.1044\n",
      "Epoch 27/50\n",
      "60000/60000 [==============================] - 5s 87us/step - loss: 0.1070 - val_loss: 0.1124\n",
      "Epoch 28/50\n",
      "60000/60000 [==============================] - 5s 87us/step - loss: 0.1068 - val_loss: 0.1050\n",
      "Epoch 29/50\n",
      "60000/60000 [==============================] - 5s 89us/step - loss: 0.1065 - val_loss: 0.1073\n",
      "Epoch 30/50\n",
      "Save the image\n",
      "60000/60000 [==============================] - 6s 101us/step - loss: 0.1066 - val_loss: 0.1055\n",
      "Epoch 31/50\n",
      "60000/60000 [==============================] - 6s 92us/step - loss: 0.1060 - val_loss: 0.1063\n",
      "Epoch 32/50\n",
      "60000/60000 [==============================] - 5s 90us/step - loss: 0.1059 - val_loss: 0.1030\n",
      "Epoch 33/50\n",
      "60000/60000 [==============================] - 5s 91us/step - loss: 0.1057 - val_loss: 0.1037\n",
      "Epoch 34/50\n",
      "60000/60000 [==============================] - 5s 90us/step - loss: 0.1055 - val_loss: 0.1091\n",
      "Epoch 35/50\n",
      "Save the image\n",
      "60000/60000 [==============================] - 6s 101us/step - loss: 0.1054 - val_loss: 0.1055\n",
      "Epoch 36/50\n",
      "60000/60000 [==============================] - 5s 90us/step - loss: 0.1051 - val_loss: 0.1050\n",
      "Epoch 37/50\n",
      "60000/60000 [==============================] - 5s 90us/step - loss: 0.1048 - val_loss: 0.1051\n",
      "Epoch 38/50\n",
      "60000/60000 [==============================] - 5s 90us/step - loss: 0.1047 - val_loss: 0.1058\n",
      "Epoch 39/50\n",
      "60000/60000 [==============================] - 5s 90us/step - loss: 0.1046 - val_loss: 0.1051\n",
      "Epoch 40/50\n",
      "Save the image\n",
      "60000/60000 [==============================] - 6s 102us/step - loss: 0.1042 - val_loss: 0.1065\n",
      "Epoch 41/50\n",
      "60000/60000 [==============================] - 5s 89us/step - loss: 0.1039 - val_loss: 0.1016\n",
      "Epoch 42/50\n",
      "60000/60000 [==============================] - 5s 89us/step - loss: 0.1039 - val_loss: 0.1007\n",
      "Epoch 43/50\n",
      "60000/60000 [==============================] - 5s 88us/step - loss: 0.1036 - val_loss: 0.1027\n",
      "Epoch 44/50\n",
      "60000/60000 [==============================] - 5s 89us/step - loss: 0.1039 - val_loss: 0.1007\n",
      "Epoch 45/50\n",
      "Save the image\n",
      "60000/60000 [==============================] - 6s 100us/step - loss: 0.1036 - val_loss: 0.1005\n",
      "Epoch 46/50\n",
      "60000/60000 [==============================] - 5s 87us/step - loss: 0.1033 - val_loss: 0.1043\n",
      "Epoch 47/50\n",
      "60000/60000 [==============================] - 5s 88us/step - loss: 0.1029 - val_loss: 0.1016\n",
      "Epoch 48/50\n",
      "60000/60000 [==============================] - 5s 89us/step - loss: 0.1029 - val_loss: 0.1031\n",
      "Epoch 49/50\n",
      "60000/60000 [==============================] - 5s 90us/step - loss: 0.1029 - val_loss: 0.1001\n",
      "Epoch 50/50\n",
      "Save the image\n",
      "60000/60000 [==============================] - 6s 101us/step - loss: 0.1029 - val_loss: 0.1045\n"
     ]
    },
    {
     "data": {
      "image/png": "[encoded data removed]",
      "text/plain": [
       "<Figure size 432x288 with 1 Axes>"
      ]
     },
     "metadata": {
      "needs_background": "light"
     },
     "output_type": "display_data"
    }
   ],
   "source": [
    "from keras.layers import Input, Dense, Conv2D, MaxPooling2D, UpSampling2D\n",
    "from keras.models import Model\n",
    "from keras import backend as K\n",
    "import keras\n",
    "import matplotlib.pyplot as plt\n",
    "import tensorflow as tf \n",
    "import cv2\n",
    "import os\n",
    "\n",
    "\n",
    "input_img = Input(shape=(28, 28, 1))  # adapt this if using `channels_first` image data format\n",
    "\n",
    "initial_mode = keras.initializers.lecun_normal(seed=None)\n",
    "initial_mode2 = keras.initializers.lecun_normal(seed=None)\n",
    "\n",
    "for i in range(1,2):\n",
    "    ## Build the Convolution autoencoders model\n",
    "\n",
    "    x = Conv2D(16, (3, 3), activation='relu', padding='same',kernel_initializer=initial_mode)(input_img)\n",
    "    x = MaxPooling2D((2, 2), padding='same')(x)\n",
    "    x = Conv2D(8, (3, 3), activation='relu', padding='same',kernel_initializer=initial_mode)(x)\n",
    "    x = MaxPooling2D((2, 2), padding='same')(x)\n",
    "    x = Conv2D(8, (3, 3), activation='relu', padding='same',kernel_initializer=initial_mode)(x)\n",
    "    encoded = MaxPooling2D((2, 2), padding='same')(x)\n",
    "\n",
    "    # at this point the representation is (4, 4, 8) i.e. 128-dimensional\n",
    "\n",
    "    x = Conv2D(8, (3, 3), activation='relu', padding='same',kernel_initializer=initial_mode)(encoded)\n",
    "    x = UpSampling2D((2, 2))(x)\n",
    "    x = Conv2D(8, (3, 3), activation='relu', padding='same',kernel_initializer=initial_mode)(x)\n",
    "    x = UpSampling2D((2, 2))(x)\n",
    "    x = Conv2D(16, (3, 3), activation='relu',kernel_initializer=initial_mode)(x)\n",
    "    x = UpSampling2D((2, 2))(x)\n",
    "    decoded = Conv2D(1, (3, 3), activation='sigmoid', padding='same',kernel_initializer=initial_mode2)(x)\n",
    "\n",
    "\n",
    "\n",
    "    autoencoder = Model(input_img, decoded)\n",
    "    autoencoder.compile(optimizer='adadelta', loss='binary_crossentropy')\n",
    "\n",
    "    from keras.datasets import mnist\n",
    "    import numpy as np\n",
    "\n",
    "    (x_train, _), (x_test, _) = mnist.load_data()\n",
    "\n",
    "    x_train = x_train.astype('float32') / 255.\n",
    "    x_test = x_test.astype('float32') / 255.\n",
    "    x_train = np.reshape(x_train, (len(x_train), 28, 28, 1))  # adapt this if using `channels_first` image data format\n",
    "    x_test = np.reshape(x_test, (len(x_test), 28, 28, 1))  # adapt this if using `channels_first` image data format\n",
    "\n",
    "    from keras.callbacks import TensorBoard\n",
    "\n",
    "    \n",
    "    \n",
    "\n",
    "    class CustomSaver(tf.keras.callbacks.Callback):\n",
    "        def on_epoch_begin(self, epoch, logs={}):            \n",
    "            loop = epoch + 1\n",
    "            \n",
    "            if loop%5 == 0:  # or save after some epoch, each k-th epoch etc.\n",
    "                print('Save the image')\n",
    "                decoded_imgs = autoencoder.predict(x_test)\n",
    "                img = decoded_imgs[0]\n",
    "                img = img.reshape(28,28)\n",
    "                \n",
    "                # save the img\n",
    "                current_dir = os.getcwd()\n",
    "                plt.imshow(img,'gray')\n",
    "                plt.savefig(current_dir+'/Decoded_img/Decoded_image_epoch'+str(loop)+'.png')\n",
    "\n",
    "\n",
    "    saver = CustomSaver()\n",
    "    current_dir = os.getcwd()\n",
    "\n",
    "    result = autoencoder.fit(x_train, x_train,\n",
    "                                        epochs=50,\n",
    "                                        batch_size=128,\n",
    "                                        shuffle=True,\n",
    "                                        validation_data=(x_test, x_test),\n",
    "                                        callbacks=[saver,TensorBoard(log_dir=current_dir+'/tensorboard_data/lecun')])\n",
    "    \n",
    "    \n",
    "\n",
    "\n",
    "#print(autoencoder.summary())\n",
    "\n",
    "\n",
    "\n",
    "\n",
    "#decoded_images = autoencoder.predict(x_test)"
   ]
  },
  {
   "cell_type": "code",
   "execution_count": 2,
   "metadata": {},
   "outputs": [],
   "source": [
    "decoded_imgs = autoencoder.predict(x_test)"
   ]
  },
  {
   "cell_type": "code",
   "execution_count": 3,
   "metadata": {},
   "outputs": [
    {
     "data": {
      "text/plain": [
       "<matplotlib.image.AxesImage at 0x7fd28f1fc128>"
      ]
     },
     "execution_count": 3,
     "metadata": {},
     "output_type": "execute_result"
    },
    {
     "data": {
      "image/png": "[encoded data removed]",
      "text/plain": [
       "<Figure size 432x288 with 1 Axes>"
      ]
     },
     "metadata": {
      "needs_background": "light"
     },
     "output_type": "display_data"
    }
   ],
   "source": [
    "b = x_test[0]\n",
    "b = b.reshape(28,28)\n",
    "\n",
    "plt.imshow(b,'gray')\n",
    "#plt.savefig('data_test_src.png')\n"
   ]
  },
  {
   "cell_type": "code",
   "execution_count": 4,
   "metadata": {},
   "outputs": [
    {
     "data": {
      "text/plain": [
       "<matplotlib.image.AxesImage at 0x7fd28f6d9b38>"
      ]
     },
     "execution_count": 4,
     "metadata": {},
     "output_type": "execute_result"
    },
    {
     "data": {
      "image/png": "[encoded data removed]",
      "text/plain": [
       "<Figure size 432x288 with 1 Axes>"
      ]
     },
     "metadata": {
      "needs_background": "light"
     },
     "output_type": "display_data"
    }
   ],
   "source": [
    "decoded_imgs.shape\n",
    "a = decoded_imgs[0]\n",
    "a = a.reshape(28,28)\n",
    "plt.imshow(a,'gray')\n"
   ]
  },
  {
   "cell_type": "code",
   "execution_count": 5,
   "metadata": {},
   "outputs": [],
   "source": [
    "autoencoder.save('my_model.h5')"
   ]
  },
  {
   "cell_type": "code",
   "execution_count": 36,
   "metadata": {},
   "outputs": [],
   "source": [
    "from tensorflow.keras.layers import Input, Dense, Conv2D, MaxPooling2D, UpSampling2D\n",
    "from tensorflow.keras.models import Model\n",
    "from tensorflow.keras import backend as K\n",
    "import matplotlib.pyplot as plt\n",
    "import tensorflow as tf\n",
    "import numpy as np\n",
    "import cv2\n",
    "\n",
    "current_dir = os.getcwd()\n",
    "new_model = tf.keras.models.load_model(current_dir+'/model/my_CAE_zeros.h5')"
   ]
  },
  {
   "cell_type": "code",
   "execution_count": 37,
   "metadata": {},
   "outputs": [],
   "source": [
    "#print(new_model.summary())"
   ]
  },
  {
   "cell_type": "code",
   "execution_count": 38,
   "metadata": {},
   "outputs": [
    {
     "data": {
      "text/plain": [
       "(225, 225)"
      ]
     },
     "execution_count": 38,
     "metadata": {},
     "output_type": "execute_result"
    }
   ],
   "source": [
    "current_dir = os.getcwd()\n",
    "\n",
    "test_img = cv2.imread('test1.png',cv2.IMREAD_GRAYSCALE)\n",
    "test_img.shape\n"
   ]
  },
  {
   "cell_type": "code",
   "execution_count": 39,
   "metadata": {},
   "outputs": [
    {
     "data": {
      "image/png": "[encoded data removed]",
      "text/plain": [
       "<Figure size 432x288 with 1 Axes>"
      ]
     },
     "metadata": {
      "needs_background": "light"
     },
     "output_type": "display_data"
    }
   ],
   "source": [
    "#Do scale\n",
    "test_img = abs(255-test_img)\n",
    "test_img = test_img/255\n",
    "\n",
    "\n",
    "#change the input shape\n",
    "new_img = cv2.resize(test_img,(28, 28))\n",
    "new_img.shape\n",
    "plt.imshow(new_img,cmap='gray')\n",
    "#plt.savefig('test_src.png')\n",
    "\n",
    "new_img1 = new_img.reshape(1,28,28,1) \n"
   ]
  },
  {
   "cell_type": "code",
   "execution_count": 29,
   "metadata": {},
   "outputs": [
    {
     "data": {
      "text/plain": [
       "(1, 28, 28, 1)"
      ]
     },
     "execution_count": 29,
     "metadata": {},
     "output_type": "execute_result"
    }
   ],
   "source": [
    "new_img1.shape"
   ]
  },
  {
   "cell_type": "code",
   "execution_count": 40,
   "metadata": {},
   "outputs": [
    {
     "data": {
      "image/png": "[encoded data removed]",
      "text/plain": [
       "<Figure size 432x288 with 1 Axes>"
      ]
     },
     "metadata": {
      "needs_background": "light"
     },
     "output_type": "display_data"
    }
   ],
   "source": [
    "pred = new_model.predict(new_img1)\n",
    "\n",
    "output = pred.reshape(28,28) \n",
    "\n",
    "plt.imshow(output,cmap='gray')\n",
    "plt.savefig('test_zeros.png')\n"
   ]
  },
  {
   "cell_type": "code",
   "execution_count": null,
   "metadata": {},
   "outputs": [],
   "source": []
  },
  {
   "cell_type": "code",
   "execution_count": null,
   "metadata": {},
   "outputs": [],
   "source": []
  },
  {
   "cell_type": "code",
   "execution_count": null,
   "metadata": {},
   "outputs": [],
   "source": []
  }
 ],
 "metadata": {
  "kernelspec": {
   "display_name": "tensor_env_3.6",
   "language": "python",
   "name": "tensor_env_3.6"
  },
  "language_info": {
   "codemirror_mode": {
    "name": "ipython",
    "version": 3
   },
   "file_extension": ".py",
   "mimetype": "text/x-python",
   "name": "python",
   "nbconvert_exporter": "python",
   "pygments_lexer": "ipython3",
   "version": "3.6.9"
  }
 },
 "nbformat": 4,
 "nbformat_minor": 4
}
