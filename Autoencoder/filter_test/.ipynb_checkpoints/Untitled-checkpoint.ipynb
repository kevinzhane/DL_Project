{
 "cells": [
  {
   "cell_type": "code",
   "execution_count": 14,
   "metadata": {},
   "outputs": [
    {
     "name": "stdout",
     "output_type": "stream",
     "text": [
      "Train on 60000 samples, validate on 10000 samples\n",
      "Epoch 1/50\n",
      "60000/60000 [==============================] - 6s 97us/step - loss: 0.2147 - val_loss: 0.1613\n",
      "Epoch 2/50\n",
      "Save the image\n",
      "60000/60000 [==============================] - 6s 102us/step - loss: 0.1510 - val_loss: 0.1431\n",
      "Epoch 3/50\n",
      "60000/60000 [==============================] - 5s 90us/step - loss: 0.1370 - val_loss: 0.1325\n",
      "Epoch 4/50\n",
      "Save the image\n",
      "60000/60000 [==============================] - 6s 99us/step - loss: 0.1296 - val_loss: 0.1298\n",
      "Epoch 5/50\n",
      "60000/60000 [==============================] - 5s 89us/step - loss: 0.1252 - val_loss: 0.1202\n",
      "Epoch 6/50\n",
      "Save the image\n",
      "60000/60000 [==============================] - 6s 100us/step - loss: 0.1221 - val_loss: 0.1179\n",
      "Epoch 7/50\n",
      "60000/60000 [==============================] - 5s 89us/step - loss: 0.1195 - val_loss: 0.1180\n",
      "Epoch 8/50\n",
      "Save the image\n",
      "60000/60000 [==============================] - 6s 101us/step - loss: 0.1174 - val_loss: 0.1157\n",
      "Epoch 9/50\n",
      "60000/60000 [==============================] - 5s 90us/step - loss: 0.1158 - val_loss: 0.1140\n",
      "Epoch 10/50\n",
      "Save the image\n",
      "60000/60000 [==============================] - 6s 101us/step - loss: 0.1141 - val_loss: 0.1106\n",
      "Epoch 11/50\n",
      "60000/60000 [==============================] - 5s 90us/step - loss: 0.1130 - val_loss: 0.1113\n",
      "Epoch 12/50\n",
      "Save the image\n",
      "60000/60000 [==============================] - 6s 101us/step - loss: 0.1120 - val_loss: 0.1092\n",
      "Epoch 13/50\n",
      "60000/60000 [==============================] - 5s 89us/step - loss: 0.1109 - val_loss: 0.1098\n",
      "Epoch 14/50\n",
      "Save the image\n",
      "60000/60000 [==============================] - 6s 101us/step - loss: 0.1099 - val_loss: 0.1099\n",
      "Epoch 15/50\n",
      "60000/60000 [==============================] - 5s 89us/step - loss: 0.1094 - val_loss: 0.1082\n",
      "Epoch 16/50\n",
      "Save the image\n",
      "60000/60000 [==============================] - 6s 100us/step - loss: 0.1087 - val_loss: 0.1066\n",
      "Epoch 17/50\n",
      "60000/60000 [==============================] - 5s 88us/step - loss: 0.1081 - val_loss: 0.1046\n",
      "Epoch 18/50\n",
      "Save the image\n",
      "60000/60000 [==============================] - 6s 100us/step - loss: 0.1074 - val_loss: 0.1068\n",
      "Epoch 19/50\n",
      "60000/60000 [==============================] - 5s 88us/step - loss: 0.1069 - val_loss: 0.1066\n",
      "Epoch 20/50\n",
      "Save the image\n",
      "60000/60000 [==============================] - 6s 99us/step - loss: 0.1064 - val_loss: 0.1038\n",
      "Epoch 21/50\n",
      "60000/60000 [==============================] - 5s 89us/step - loss: 0.1059 - val_loss: 0.1059\n",
      "Epoch 22/50\n",
      "Save the image\n",
      "60000/60000 [==============================] - 6s 99us/step - loss: 0.1054 - val_loss: 0.1057\n",
      "Epoch 23/50\n",
      "60000/60000 [==============================] - 5s 87us/step - loss: 0.1051 - val_loss: 0.1010\n",
      "Epoch 24/50\n",
      "Save the image\n",
      "60000/60000 [==============================] - 6s 100us/step - loss: 0.1049 - val_loss: 0.1038\n",
      "Epoch 25/50\n",
      "60000/60000 [==============================] - 5s 88us/step - loss: 0.1044 - val_loss: 0.1032\n",
      "Epoch 26/50\n",
      "Save the image\n",
      "60000/60000 [==============================] - 6s 100us/step - loss: 0.1044 - val_loss: 0.1022\n",
      "Epoch 27/50\n",
      "60000/60000 [==============================] - 5s 89us/step - loss: 0.1040 - val_loss: 0.1012\n",
      "Epoch 28/50\n",
      "Save the image\n",
      "60000/60000 [==============================] - 6s 101us/step - loss: 0.1039 - val_loss: 0.1023\n",
      "Epoch 29/50\n",
      "60000/60000 [==============================] - 5s 89us/step - loss: 0.1037 - val_loss: 0.1032\n",
      "Epoch 30/50\n",
      "Save the image\n",
      "60000/60000 [==============================] - 6s 100us/step - loss: 0.1031 - val_loss: 0.1014\n",
      "Epoch 31/50\n",
      "60000/60000 [==============================] - 5s 88us/step - loss: 0.1030 - val_loss: 0.1025\n",
      "Epoch 32/50\n",
      "Save the image\n",
      "60000/60000 [==============================] - 6s 101us/step - loss: 0.1026 - val_loss: 0.1015\n",
      "Epoch 33/50\n",
      "60000/60000 [==============================] - 5s 89us/step - loss: 0.1025 - val_loss: 0.1015\n",
      "Epoch 34/50\n",
      "Save the image\n",
      "60000/60000 [==============================] - 6s 103us/step - loss: 0.1023 - val_loss: 0.1002\n",
      "Epoch 35/50\n",
      "60000/60000 [==============================] - 5s 89us/step - loss: 0.1021 - val_loss: 0.1035\n",
      "Epoch 36/50\n",
      "Save the image\n",
      "60000/60000 [==============================] - 6s 100us/step - loss: 0.1020 - val_loss: 0.1016\n",
      "Epoch 37/50\n",
      "60000/60000 [==============================] - 5s 88us/step - loss: 0.1018 - val_loss: 0.1018\n",
      "Epoch 38/50\n",
      "Save the image\n",
      "60000/60000 [==============================] - 6s 102us/step - loss: 0.1016 - val_loss: 0.1030\n",
      "Epoch 39/50\n",
      "60000/60000 [==============================] - 5s 89us/step - loss: 0.1015 - val_loss: 0.0993\n",
      "Epoch 40/50\n",
      "Save the image\n",
      "60000/60000 [==============================] - 6s 102us/step - loss: 0.1015 - val_loss: 0.0996\n",
      "Epoch 41/50\n",
      "60000/60000 [==============================] - 5s 90us/step - loss: 0.1012 - val_loss: 0.1026\n",
      "Epoch 42/50\n",
      "Save the image\n",
      "60000/60000 [==============================] - 6s 100us/step - loss: 0.1010 - val_loss: 0.1018\n",
      "Epoch 43/50\n",
      "60000/60000 [==============================] - 5s 89us/step - loss: 0.1005 - val_loss: 0.0977\n",
      "Epoch 44/50\n",
      "Save the image\n",
      "60000/60000 [==============================] - 6s 102us/step - loss: 0.1005 - val_loss: 0.0996\n",
      "Epoch 45/50\n",
      "60000/60000 [==============================] - 5s 90us/step - loss: 0.1004 - val_loss: 0.1001\n",
      "Epoch 46/50\n",
      "Save the image\n",
      "60000/60000 [==============================] - 6s 102us/step - loss: 0.1005 - val_loss: 0.1020\n",
      "Epoch 47/50\n",
      "60000/60000 [==============================] - 5s 88us/step - loss: 0.1002 - val_loss: 0.1009\n",
      "Epoch 48/50\n",
      "Save the image\n",
      "60000/60000 [==============================] - 6s 101us/step - loss: 0.1001 - val_loss: 0.0980\n",
      "Epoch 49/50\n",
      "60000/60000 [==============================] - 5s 87us/step - loss: 0.1000 - val_loss: 0.0986\n",
      "Epoch 50/50\n",
      "Save the image\n",
      "60000/60000 [==============================] - 6s 102us/step - loss: 0.1000 - val_loss: 0.1006\n"
     ]
    },
    {
     "data": {
      "image/png": "[encoded data removed]",
      "text/plain": [
       "<Figure size 432x288 with 1 Axes>"
      ]
     },
     "metadata": {
      "needs_background": "light"
     },
     "output_type": "display_data"
    }
   ],
   "source": [
    "from keras.layers import Input, Dense, Conv2D, MaxPooling2D, UpSampling2D\n",
    "from keras.models import Model\n",
    "from keras import backend as K\n",
    "import matplotlib.pyplot as plt\n",
    "import tensorflow as tf \n",
    "import cv2\n",
    "import os\n",
    "\n",
    "\n",
    "input_img = Input(shape=(28, 28, 1))  # adapt this if using `channels_first` image data format\n",
    "\n",
    "\n",
    "for i in range(1,2):\n",
    "    ## Build the Convolution autoencoders model\n",
    "\n",
    "    x = Conv2D(16, (3, 3), activation='relu', padding='same')(input_img)\n",
    "    x = MaxPooling2D((2, 2), padding='same')(x)\n",
    "    x = Conv2D(8, (3, 3), activation='relu', padding='same')(x)\n",
    "    x = MaxPooling2D((2, 2), padding='same')(x)\n",
    "    x = Conv2D(8, (3, 3), activation='relu', padding='same')(x)\n",
    "    encoded = MaxPooling2D((2, 2), padding='same')(x)\n",
    "\n",
    "    # at this point the representation is (4, 4, 8) i.e. 128-dimensional\n",
    "\n",
    "    x = Conv2D(8, (3, 3), activation='relu', padding='same')(encoded)\n",
    "    x = UpSampling2D((2, 2))(x)\n",
    "    x = Conv2D(8, (3, 3), activation='relu', padding='same')(x)\n",
    "    x = UpSampling2D((2, 2))(x)\n",
    "    x = Conv2D(16, (3, 3), activation='relu')(x)\n",
    "    x = UpSampling2D((2, 2))(x)\n",
    "    decoded = Conv2D(1, (3, 3), activation='sigmoid', padding='same')(x)\n",
    "\n",
    "\n",
    "\n",
    "    autoencoder = Model(input_img, decoded)\n",
    "    autoencoder.compile(optimizer='adadelta', loss='binary_crossentropy')\n",
    "\n",
    "    from keras.datasets import mnist\n",
    "    import numpy as np\n",
    "\n",
    "    (x_train, _), (x_test, _) = mnist.load_data()\n",
    "\n",
    "    x_train = x_train.astype('float32') / 255.\n",
    "    x_test = x_test.astype('float32') / 255.\n",
    "    x_train = np.reshape(x_train, (len(x_train), 28, 28, 1))  # adapt this if using `channels_first` image data format\n",
    "    x_test = np.reshape(x_test, (len(x_test), 28, 28, 1))  # adapt this if using `channels_first` image data format\n",
    "\n",
    "    from keras.callbacks import TensorBoard\n",
    "\n",
    "    \n",
    "    \n",
    "\n",
    "    class CustomSaver(tf.keras.callbacks.Callback):\n",
    "        def on_epoch_begin(self, epoch, logs={}):\n",
    "            #save_decoded_imgs = []\n",
    "            \n",
    "            loop = epoch + 1\n",
    "            \n",
    "            if loop%2 == 0:  # or save after some epoch, each k-th epoch etc.\n",
    "                print('Save the image')\n",
    "                decoded_imgs = autoencoder.predict(x_test)\n",
    "                img = decoded_imgs[0]\n",
    "                img = img.reshape(28,28)\n",
    "                \n",
    "                # save the img\n",
    "                current_dir = os.getcwd()\n",
    "                plt.imshow(img,'gray')\n",
    "                plt.savefig(current_dir+'/Decoded_img/Decoded_image_epoch'+str(loop)+'.png')\n",
    "\n",
    "\n",
    "    saver = CustomSaver()\n",
    "    \n",
    "    result = autoencoder.fit(x_train, x_train,\n",
    "                                        epochs=50,\n",
    "                                        batch_size=128,\n",
    "                                        shuffle=True,\n",
    "                                        validation_data=(x_test, x_test),\n",
    "                                        callbacks=[saver,TensorBoard(log_dir='/tmp/autoencoder')])\n",
    "    \n",
    "    \n",
    "\n",
    "\n",
    "#print(autoencoder.summary())\n",
    "\n",
    "\n",
    "\n",
    "\n",
    "#decoded_images = autoencoder.predict(x_test)"
   ]
  },
  {
   "cell_type": "code",
   "execution_count": null,
   "metadata": {},
   "outputs": [],
   "source": [
    "'''\n",
    "loss = autoencoder_train.history['loss']\n",
    "val_loss = autoencoder_train.history['val_loss']\n",
    "epochs = range(10)\n",
    "plt.figure()\n",
    "plt.plot(epochs, loss, 'bo', label='Training loss')\n",
    "plt.plot(epochs, val_loss, 'b', label='Validation loss')\n",
    "plt.title('Training and validation loss')\n",
    "plt.legend()\n",
    "plt.show()\n",
    "'''\n",
    "\n"
   ]
  },
  {
   "cell_type": "code",
   "execution_count": null,
   "metadata": {},
   "outputs": [],
   "source": [
    "\n"
   ]
  },
  {
   "cell_type": "code",
   "execution_count": 15,
   "metadata": {},
   "outputs": [],
   "source": [
    "decoded_imgs = autoencoder.predict(x_test)\n"
   ]
  },
  {
   "cell_type": "code",
   "execution_count": 16,
   "metadata": {},
   "outputs": [
    {
     "data": {
      "text/plain": [
       "<matplotlib.image.AxesImage at 0x7ff81f9184a8>"
      ]
     },
     "execution_count": 16,
     "metadata": {},
     "output_type": "execute_result"
    },
    {
     "data": {
      "image/png": "[encoded data removed]",
      "text/plain": [
       "<Figure size 432x288 with 1 Axes>"
      ]
     },
     "metadata": {
      "needs_background": "light"
     },
     "output_type": "display_data"
    }
   ],
   "source": [
    "b = x_test[0]\n",
    "b = b.reshape(28,28)\n",
    "\n",
    "#plt.imsave('output.png',b)\n",
    "plt.imshow(b,'gray')\n",
    "#cv2.imwrite('output.png', b)\n"
   ]
  },
  {
   "cell_type": "code",
   "execution_count": 17,
   "metadata": {},
   "outputs": [
    {
     "data": {
      "text/plain": [
       "<matplotlib.image.AxesImage at 0x7ff81d8fb400>"
      ]
     },
     "execution_count": 17,
     "metadata": {},
     "output_type": "execute_result"
    },
    {
     "data": {
      "image/png": "[encoded data removed]",
      "text/plain": [
       "<Figure size 432x288 with 1 Axes>"
      ]
     },
     "metadata": {
      "needs_background": "light"
     },
     "output_type": "display_data"
    }
   ],
   "source": [
    "decoded_imgs.shape\n",
    "a = decoded_imgs[0]\n",
    "a = a.reshape(28,28)\n",
    "plt.imshow(a,'gray')"
   ]
  },
  {
   "cell_type": "code",
   "execution_count": 18,
   "metadata": {},
   "outputs": [],
   "source": [
    "autoencoder.save('my_model.h5')"
   ]
  },
  {
   "cell_type": "code",
   "execution_count": 19,
   "metadata": {},
   "outputs": [],
   "source": [
    "from tensorflow.keras.layers import Input, Dense, Conv2D, MaxPooling2D, UpSampling2D\n",
    "from tensorflow.keras.models import Model\n",
    "from tensorflow.keras import backend as K\n",
    "import matplotlib.pyplot as plt\n",
    "import tensorflow as tf\n",
    "import numpy as np\n",
    "import cv2\n",
    "\n",
    "new_model = tf.keras.models.load_model('my_model.h5')"
   ]
  },
  {
   "cell_type": "code",
   "execution_count": 20,
   "metadata": {},
   "outputs": [
    {
     "name": "stdout",
     "output_type": "stream",
     "text": [
      "Model: \"model_2\"\n",
      "_________________________________________________________________\n",
      "Layer (type)                 Output Shape              Param #   \n",
      "=================================================================\n",
      "input_2 (InputLayer)         [(None, 28, 28, 1)]       0         \n",
      "_________________________________________________________________\n",
      "conv2d_8 (Conv2D)            (None, 28, 28, 16)        160       \n",
      "_________________________________________________________________\n",
      "max_pooling2d_4 (MaxPooling2 (None, 14, 14, 16)        0         \n",
      "_________________________________________________________________\n",
      "conv2d_9 (Conv2D)            (None, 14, 14, 8)         1160      \n",
      "_________________________________________________________________\n",
      "max_pooling2d_5 (MaxPooling2 (None, 7, 7, 8)           0         \n",
      "_________________________________________________________________\n",
      "conv2d_10 (Conv2D)           (None, 7, 7, 8)           584       \n",
      "_________________________________________________________________\n",
      "max_pooling2d_6 (MaxPooling2 (None, 4, 4, 8)           0         \n",
      "_________________________________________________________________\n",
      "conv2d_11 (Conv2D)           (None, 4, 4, 8)           584       \n",
      "_________________________________________________________________\n",
      "up_sampling2d_4 (UpSampling2 (None, 8, 8, 8)           0         \n",
      "_________________________________________________________________\n",
      "conv2d_12 (Conv2D)           (None, 8, 8, 8)           584       \n",
      "_________________________________________________________________\n",
      "up_sampling2d_5 (UpSampling2 (None, 16, 16, 8)         0         \n",
      "_________________________________________________________________\n",
      "conv2d_13 (Conv2D)           (None, 14, 14, 16)        1168      \n",
      "_________________________________________________________________\n",
      "up_sampling2d_6 (UpSampling2 (None, 28, 28, 16)        0         \n",
      "_________________________________________________________________\n",
      "conv2d_14 (Conv2D)           (None, 28, 28, 1)         145       \n",
      "=================================================================\n",
      "Total params: 4,385\n",
      "Trainable params: 4,385\n",
      "Non-trainable params: 0\n",
      "_________________________________________________________________\n",
      "None\n"
     ]
    }
   ],
   "source": [
    "print(new_model.summary())"
   ]
  },
  {
   "cell_type": "code",
   "execution_count": 21,
   "metadata": {},
   "outputs": [
    {
     "data": {
      "text/plain": [
       "(225, 225)"
      ]
     },
     "execution_count": 21,
     "metadata": {},
     "output_type": "execute_result"
    }
   ],
   "source": [
    "current_dir = os.getcwd()\n",
    "\n",
    "test_img = cv2.imread('test1.png',cv2.IMREAD_GRAYSCALE)\n",
    "test_img.shape\n"
   ]
  },
  {
   "cell_type": "code",
   "execution_count": 22,
   "metadata": {},
   "outputs": [
    {
     "data": {
      "image/png": "[encoded data removed]",
      "text/plain": [
       "<Figure size 432x288 with 1 Axes>"
      ]
     },
     "metadata": {
      "needs_background": "light"
     },
     "output_type": "display_data"
    }
   ],
   "source": [
    "#Do scale\n",
    "test_img = abs(255-test_img)\n",
    "test_img = test_img/255\n",
    "\n",
    "#change the input shape\n",
    "new_img = cv2.resize(test_img,(28, 28))\n",
    "new_img.shape\n",
    "plt.imshow(new_img,cmap='gray')\n",
    "\n",
    "new_img1 = new_img.reshape(1,28,28,1) \n"
   ]
  },
  {
   "cell_type": "code",
   "execution_count": 23,
   "metadata": {},
   "outputs": [
    {
     "data": {
      "text/plain": [
       "(1, 28, 28, 1)"
      ]
     },
     "execution_count": 23,
     "metadata": {},
     "output_type": "execute_result"
    }
   ],
   "source": [
    "new_img1.shape"
   ]
  },
  {
   "cell_type": "code",
   "execution_count": 26,
   "metadata": {},
   "outputs": [
    {
     "data": {
      "text/plain": [
       "<matplotlib.image.AxesImage at 0x7ff8188a3a58>"
      ]
     },
     "execution_count": 26,
     "metadata": {},
     "output_type": "execute_result"
    },
    {
     "data": {
      "image/png": "[encoded data removed]",
      "text/plain": [
       "<Figure size 432x288 with 1 Axes>"
      ]
     },
     "metadata": {
      "needs_background": "light"
     },
     "output_type": "display_data"
    }
   ],
   "source": [
    "pred = new_model.predict(new_img1)\n",
    "\n",
    "output = pred.reshape(28,28) \n",
    "\n",
    "plt.imshow(output,cmap='gray')"
   ]
  },
  {
   "cell_type": "code",
   "execution_count": null,
   "metadata": {},
   "outputs": [],
   "source": []
  },
  {
   "cell_type": "code",
   "execution_count": 25,
   "metadata": {},
   "outputs": [
    {
     "data": {
      "text/plain": [
       "'/usr/bin/python3'"
      ]
     },
     "execution_count": 25,
     "metadata": {},
     "output_type": "execute_result"
    }
   ],
   "source": []
  },
  {
   "cell_type": "code",
   "execution_count": null,
   "metadata": {},
   "outputs": [],
   "source": []
  }
 ],
 "metadata": {
  "kernelspec": {
   "display_name": "tensor_env_3.6",
   "language": "python",
   "name": "tensor_env_3.6"
  },
  "language_info": {
   "codemirror_mode": {
    "name": "ipython",
    "version": 3
   },
   "file_extension": ".py",
   "mimetype": "text/x-python",
   "name": "python",
   "nbconvert_exporter": "python",
   "pygments_lexer": "ipython3",
   "version": "3.6.9"
  }
 },
 "nbformat": 4,
 "nbformat_minor": 4
}
