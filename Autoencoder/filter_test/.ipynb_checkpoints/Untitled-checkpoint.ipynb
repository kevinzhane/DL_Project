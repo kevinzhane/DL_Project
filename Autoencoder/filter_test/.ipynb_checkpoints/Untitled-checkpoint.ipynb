{
 "cells": [
  {
   "cell_type": "code",
   "execution_count": 61,
   "metadata": {},
   "outputs": [
    {
     "name": "stdout",
     "output_type": "stream",
     "text": [
      "Train on 60000 samples, validate on 10000 samples\n",
      "Epoch 1/30\n",
      "60000/60000 [==============================] - 17s 287us/sample - loss: 0.6899 - val_loss: 0.6893\n",
      "Epoch 2/30\n",
      "60000/60000 [==============================] - 24s 398us/sample - loss: 0.6885 - val_loss: 0.6876\n",
      "Epoch 3/30\n",
      "60000/60000 [==============================] - 30s 495us/sample - loss: 0.6863 - val_loss: 0.6848\n",
      "Epoch 4/30\n",
      "60000/60000 [==============================] - 18s 297us/sample - loss: 0.6827 - val_loss: 0.6803\n",
      "Epoch 5/30\n",
      "60000/60000 [==============================] - 18s 293us/sample - loss: 0.6768 - val_loss: 0.6727\n",
      "Epoch 6/30\n",
      "60000/60000 [==============================] - 18s 294us/sample - loss: 0.6664 - val_loss: 0.6591\n",
      "Epoch 7/30\n",
      "60000/60000 [==============================] - 16s 264us/sample - loss: 0.6475 - val_loss: 0.6337\n",
      "Epoch 8/30\n",
      "60000/60000 [==============================] - 18s 307us/sample - loss: 0.6123 - val_loss: 0.5888\n",
      "Epoch 9/30\n",
      "60000/60000 [==============================] - 17s 286us/sample - loss: 0.5620 - val_loss: 0.5414\n",
      "Epoch 10/30\n",
      "60000/60000 [==============================] - 17s 291us/sample - loss: 0.5249 - val_loss: 0.5165\n",
      "Epoch 11/30\n",
      "60000/60000 [==============================] - 17s 282us/sample - loss: 0.5048 - val_loss: 0.5001\n",
      "Epoch 12/30\n",
      "60000/60000 [==============================] - 17s 286us/sample - loss: 0.4893 - val_loss: 0.4854\n",
      "Epoch 13/30\n",
      "60000/60000 [==============================] - 18s 293us/sample - loss: 0.4748 - val_loss: 0.4711\n",
      "Epoch 14/30\n",
      "60000/60000 [==============================] - 17s 282us/sample - loss: 0.4606 - val_loss: 0.4570\n",
      "Epoch 15/30\n",
      "60000/60000 [==============================] - 18s 295us/sample - loss: 0.4469 - val_loss: 0.4432\n",
      "Epoch 16/30\n",
      "60000/60000 [==============================] - 19s 312us/sample - loss: 0.4322 - val_loss: 0.4268\n",
      "Epoch 17/30\n",
      "60000/60000 [==============================] - 17s 279us/sample - loss: 0.4130 - val_loss: 0.4039\n",
      "Epoch 18/30\n",
      "60000/60000 [==============================] - 16s 266us/sample - loss: 0.3857 - val_loss: 0.3715\n",
      "Epoch 19/30\n",
      "60000/60000 [==============================] - 17s 276us/sample - loss: 0.3516 - val_loss: 0.3361\n",
      "Epoch 20/30\n",
      "60000/60000 [==============================] - 19s 310us/sample - loss: 0.3198 - val_loss: 0.3083\n",
      "Epoch 21/30\n",
      "60000/60000 [==============================] - 17s 289us/sample - loss: 0.2963 - val_loss: 0.2880\n",
      "Epoch 22/30\n",
      "60000/60000 [==============================] - 16s 266us/sample - loss: 0.2788 - val_loss: 0.2727\n",
      "Epoch 23/30\n",
      "60000/60000 [==============================] - 18s 303us/sample - loss: 0.2654 - val_loss: 0.2609\n",
      "Epoch 24/30\n",
      "60000/60000 [==============================] - 17s 281us/sample - loss: 0.2549 - val_loss: 0.2516\n",
      "Epoch 25/30\n",
      "60000/60000 [==============================] - 17s 284us/sample - loss: 0.2466 - val_loss: 0.2440\n",
      "Epoch 26/30\n",
      "60000/60000 [==============================] - 17s 290us/sample - loss: 0.2397 - val_loss: 0.2378\n",
      "Epoch 27/30\n",
      "60000/60000 [==============================] - 17s 285us/sample - loss: 0.2340 - val_loss: 0.2325\n",
      "Epoch 28/30\n",
      "60000/60000 [==============================] - 17s 287us/sample - loss: 0.2292 - val_loss: 0.2279\n",
      "Epoch 29/30\n",
      "60000/60000 [==============================] - 17s 283us/sample - loss: 0.2250 - val_loss: 0.2240\n",
      "Epoch 30/30\n",
      "60000/60000 [==============================] - 17s 283us/sample - loss: 0.2213 - val_loss: 0.2205\n"
     ]
    },
    {
     "data": {
      "text/plain": [
       "\"\\nloss = autoencoder_train.history['loss']\\nval_loss = autoencoder_train.history['val_loss']\\nepochs = range(10)\\nplt.figure()\\nplt.plot(epochs, loss, 'bo', label='Training loss')\\nplt.plot(epochs, val_loss, 'b', label='Validation loss')\\nplt.title('Training and validation loss')\\nplt.legend()\\nplt.show()\\n\""
      ]
     },
     "execution_count": 61,
     "metadata": {},
     "output_type": "execute_result"
    }
   ],
   "source": [
    "from tensorflow.keras.layers import Input, Dense, Conv2D, MaxPooling2D, UpSampling2D\n",
    "from tensorflow.keras.models import Model\n",
    "from tensorflow.keras import backend as K\n",
    "import matplotlib.pyplot as plt\n",
    "import tensorflow as tf \n",
    "import cv2\n",
    "\n",
    "\n",
    "input_img = Input(shape=(28, 28, 1))  # adapt this if using `channels_first` image data format\n",
    "\n",
    "\n",
    "for i in range(1,2):\n",
    "    filter_num = i*4\n",
    "    ## Build the Convolution autoencoders model\n",
    "\n",
    "    x = Conv2D(filter_num, (3, 3), activation='relu', padding='same')(input_img)\n",
    "    x = MaxPooling2D((2, 2), padding='same')(x)\n",
    "\n",
    "    x = Conv2D(filter_num, (3, 3), activation='relu', padding='same')(x)\n",
    "    encoded = MaxPooling2D((2, 2), padding='same')(x)\n",
    "    #x = Conv2D(8, (3, 3), activation='relu', padding='same')(x)\n",
    "    #encoded = MaxPooling2D((2, 2), padding='same')(x)\n",
    "\n",
    "\n",
    "    x = Conv2D(filter_num, (3, 3), activation='relu', padding='same')(encoded)\n",
    "    x = UpSampling2D((2, 2))(x)\n",
    "    x = Conv2D(filter_num, (3, 3), activation='relu', padding='same')(x)\n",
    "    x = UpSampling2D((2, 2))(x)\n",
    "    #x = Conv2D(16, (3, 3), activation='relu')(x)\n",
    "    #x = UpSampling2D((2, 2))(x)\n",
    "    decoded = Conv2D(1, (3, 3), activation='sigmoid', padding='same')(x)\n",
    "\n",
    "\n",
    "\n",
    "\n",
    "    autoencoder = Model(input_img, decoded)\n",
    "    autoencoder.compile(optimizer='adadelta', loss='binary_crossentropy')\n",
    "\n",
    "    from keras.datasets import mnist\n",
    "    import numpy as np\n",
    "\n",
    "    (x_train, _), (x_test, _) = mnist.load_data()\n",
    "\n",
    "    x_train = x_train.astype('float32') / 255.\n",
    "    x_test = x_test.astype('float32') / 255.\n",
    "    x_train = np.reshape(x_train, (len(x_train), 28, 28, 1))  # adapt this if using `channels_first` image data format\n",
    "    x_test = np.reshape(x_test, (len(x_test), 28, 28, 1))  # adapt this if using `channels_first` image data format\n",
    "\n",
    "    from keras.callbacks import TensorBoard\n",
    "\n",
    "    autoencoder.fit(x_train, x_train,\n",
    "                                        epochs=30,\n",
    "                                        batch_size=128,\n",
    "                                        shuffle=True,\n",
    "                                        validation_data=(x_test, x_test),\n",
    "                                        callbacks=[TensorBoard(log_dir='/tmp/autoencoder')])\n",
    "\n",
    "\n",
    "\n",
    "#print(autoencoder.summary())\n",
    "\n",
    "\n",
    "'''\n",
    "loss = autoencoder_train.history['loss']\n",
    "val_loss = autoencoder_train.history['val_loss']\n",
    "epochs = range(10)\n",
    "plt.figure()\n",
    "plt.plot(epochs, loss, 'bo', label='Training loss')\n",
    "plt.plot(epochs, val_loss, 'b', label='Validation loss')\n",
    "plt.title('Training and validation loss')\n",
    "plt.legend()\n",
    "plt.show()\n",
    "'''\n",
    "\n",
    "#decoded_images = autoencoder.predict(x_test)"
   ]
  },
  {
   "cell_type": "code",
   "execution_count": 64,
   "metadata": {},
   "outputs": [],
   "source": [
    "decoded_imgs = autoencoder.predict(x_test)\n"
   ]
  },
  {
   "cell_type": "code",
   "execution_count": 74,
   "metadata": {},
   "outputs": [
    {
     "data": {
      "text/plain": [
       "<matplotlib.image.AxesImage at 0x7f04f8ae9fd0>"
      ]
     },
     "execution_count": 74,
     "metadata": {},
     "output_type": "execute_result"
    },
    {
     "data": {
      "image/png": "[encoded data removed]",
      "text/plain": [
       "<Figure size 432x288 with 1 Axes>"
      ]
     },
     "metadata": {
      "needs_background": "light"
     },
     "output_type": "display_data"
    }
   ],
   "source": [
    "b = x_test[0]\n",
    "b = b.reshape(28,28)\n",
    "plt.imshow(b)\n"
   ]
  },
  {
   "cell_type": "code",
   "execution_count": 75,
   "metadata": {},
   "outputs": [
    {
     "data": {
      "text/plain": [
       "<matplotlib.image.AxesImage at 0x7f04f8a2e470>"
      ]
     },
     "execution_count": 75,
     "metadata": {},
     "output_type": "execute_result"
    },
    {
     "data": {
      "image/png": "[encoded data removed]",
      "text/plain": [
       "<Figure size 432x288 with 1 Axes>"
      ]
     },
     "metadata": {
      "needs_background": "light"
     },
     "output_type": "display_data"
    }
   ],
   "source": [
    "\n",
    "decoded_imgs.shape\n",
    "a = decoded_imgs[0]\n",
    "a = a.reshape(28,28)\n",
    "plt.imshow(a)"
   ]
  },
  {
   "cell_type": "code",
   "execution_count": null,
   "metadata": {},
   "outputs": [],
   "source": [
    "autoencoder.save('my_model.h5', save_format='tf')"
   ]
  },
  {
   "cell_type": "code",
   "execution_count": 1,
   "metadata": {},
   "outputs": [],
   "source": [
    "from tensorflow.keras.layers import Input, Dense, Conv2D, MaxPooling2D, UpSampling2D\n",
    "from tensorflow.keras.models import Model\n",
    "from tensorflow.keras import backend as K\n",
    "import matplotlib.pyplot as plt\n",
    "import tensorflow as tf\n",
    "import numpy as np\n",
    "import cv2\n",
    "\n",
    "new_model = tf.keras.models.load_model('my_model.h5')"
   ]
  },
  {
   "cell_type": "code",
   "execution_count": 2,
   "metadata": {},
   "outputs": [
    {
     "name": "stdout",
     "output_type": "stream",
     "text": [
      "Model: \"model\"\n",
      "_________________________________________________________________\n",
      "Layer (type)                 Output Shape              Param #   \n",
      "=================================================================\n",
      "input_1 (InputLayer)         [(None, 28, 28, 1)]       0         \n",
      "_________________________________________________________________\n",
      "conv2d (Conv2D)              (None, 28, 28, 4)         40        \n",
      "_________________________________________________________________\n",
      "max_pooling2d (MaxPooling2D) (None, 14, 14, 4)         0         \n",
      "_________________________________________________________________\n",
      "conv2d_1 (Conv2D)            (None, 14, 14, 4)         148       \n",
      "_________________________________________________________________\n",
      "max_pooling2d_1 (MaxPooling2 (None, 7, 7, 4)           0         \n",
      "_________________________________________________________________\n",
      "conv2d_2 (Conv2D)            (None, 7, 7, 4)           148       \n",
      "_________________________________________________________________\n",
      "up_sampling2d (UpSampling2D) (None, 14, 14, 4)         0         \n",
      "_________________________________________________________________\n",
      "conv2d_3 (Conv2D)            (None, 14, 14, 4)         148       \n",
      "_________________________________________________________________\n",
      "up_sampling2d_1 (UpSampling2 (None, 28, 28, 4)         0         \n",
      "_________________________________________________________________\n",
      "conv2d_4 (Conv2D)            (None, 28, 28, 1)         37        \n",
      "=================================================================\n",
      "Total params: 521\n",
      "Trainable params: 521\n",
      "Non-trainable params: 0\n",
      "_________________________________________________________________\n",
      "None\n"
     ]
    }
   ],
   "source": [
    "print(new_model.summary())"
   ]
  },
  {
   "cell_type": "code",
   "execution_count": 13,
   "metadata": {},
   "outputs": [
    {
     "data": {
      "text/plain": [
       "(225, 225)"
      ]
     },
     "execution_count": 13,
     "metadata": {},
     "output_type": "execute_result"
    }
   ],
   "source": [
    "test_img = cv2.imread('test1.png',cv2.IMREAD_GRAYSCALE)\n",
    "test_img.shape\n"
   ]
  },
  {
   "cell_type": "code",
   "execution_count": 58,
   "metadata": {},
   "outputs": [
    {
     "data": {
      "image/png": "[encoded data removed]",
      "text/plain": [
       "<Figure size 432x288 with 1 Axes>"
      ]
     },
     "metadata": {
      "needs_background": "light"
     },
     "output_type": "display_data"
    }
   ],
   "source": [
    "#Do scale\n",
    "test_img = abs(255-test_img)\n",
    "test_img = test_img/255\n",
    "\n",
    "\n",
    "\n",
    "#change the input shape\n",
    "new_img = cv2.resize(test_img,(28, 28))\n",
    "new_img.shape\n",
    "plt.imshow(new_img,cmap='gray')\n",
    "\n",
    "new_img1 = new_img.reshape(1,28,28,1) \n"
   ]
  },
  {
   "cell_type": "code",
   "execution_count": 59,
   "metadata": {},
   "outputs": [
    {
     "data": {
      "text/plain": [
       "(1, 28, 28, 1)"
      ]
     },
     "execution_count": 59,
     "metadata": {},
     "output_type": "execute_result"
    }
   ],
   "source": [
    "new_img1.shape"
   ]
  },
  {
   "cell_type": "code",
   "execution_count": 60,
   "metadata": {},
   "outputs": [
    {
     "data": {
      "text/plain": [
       "<matplotlib.image.AxesImage at 0x7f04f05565c0>"
      ]
     },
     "execution_count": 60,
     "metadata": {},
     "output_type": "execute_result"
    },
    {
     "data": {
      "image/png": "[encoded data removed]",
      "text/plain": [
       "<Figure size 432x288 with 1 Axes>"
      ]
     },
     "metadata": {
      "needs_background": "light"
     },
     "output_type": "display_data"
    }
   ],
   "source": [
    "pred = new_model.predict(new_img1)\n",
    "\n",
    "output = pred.reshape(28,28) \n",
    "output.shape\n",
    "\n",
    "\n",
    "plt.imshow(output,cmap='gray')\n",
    "\n",
    "\n"
   ]
  },
  {
   "cell_type": "code",
   "execution_count": 37,
   "metadata": {},
   "outputs": [
    {
     "ename": "SyntaxError",
     "evalue": "invalid syntax (<ipython-input-37-e69e7026355c>, line 1)",
     "output_type": "error",
     "traceback": [
      "\u001b[0;36m  File \u001b[0;32m\"<ipython-input-37-e69e7026355c>\"\u001b[0;36m, line \u001b[0;32m1\u001b[0m\n\u001b[0;31m    help np\u001b[0m\n\u001b[0m          ^\u001b[0m\n\u001b[0;31mSyntaxError\u001b[0m\u001b[0;31m:\u001b[0m invalid syntax\n"
     ]
    }
   ],
   "source": []
  },
  {
   "cell_type": "code",
   "execution_count": 43,
   "metadata": {},
   "outputs": [
    {
     "name": "stdout",
     "output_type": "stream",
     "text": [
      "(60000, 28, 28)\n",
      "(60000, 28, 28, 1)\n"
     ]
    }
   ],
   "source": []
  },
  {
   "cell_type": "code",
   "execution_count": null,
   "metadata": {},
   "outputs": [],
   "source": []
  }
 ],
 "metadata": {
  "kernelspec": {
   "display_name": "Python 3",
   "language": "python",
   "name": "python3"
  },
  "language_info": {
   "codemirror_mode": {
    "name": "ipython",
    "version": 3
   },
   "file_extension": ".py",
   "mimetype": "text/x-python",
   "name": "python",
   "nbconvert_exporter": "python",
   "pygments_lexer": "ipython3",
   "version": "3.6.10"
  }
 },
 "nbformat": 4,
 "nbformat_minor": 4
}
